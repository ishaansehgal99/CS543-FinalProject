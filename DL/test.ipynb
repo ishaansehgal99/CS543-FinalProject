{
 "cells": [
  {
   "cell_type": "code",
   "execution_count": 1,
   "metadata": {},
   "outputs": [
    {
     "name": "stderr",
     "output_type": "stream",
     "text": [
      "/Users/jay/anaconda3/envs/CV/lib/python3.9/site-packages/tqdm/auto.py:22: TqdmWarning: IProgress not found. Please update jupyter and ipywidgets. See https://ipywidgets.readthedocs.io/en/stable/user_install.html\n",
      "  from .autonotebook import tqdm as notebook_tqdm\n"
     ]
    }
   ],
   "source": [
    "from GAN import *\n",
    "import torch"
   ]
  },
  {
   "cell_type": "code",
   "execution_count": 2,
   "metadata": {},
   "outputs": [
    {
     "name": "stderr",
     "output_type": "stream",
     "text": [
      "/Users/jay/Desktop/Projects/CS543-FinalProject/DL/dataset.py:32: FutureWarning: Pass y=[ 0.          0.          0.         ... -0.3883256  -0.3666923\n",
      " -0.35648352] as keyword args. From version 0.10 passing these as positional arguments will result in an error\n",
      "  audio = librosa.feature.mfcc(data, sr = sr)\n",
      "/Users/jay/Desktop/Projects/CS543-FinalProject/DL/dataset.py:32: FutureWarning: Pass y=[0.         0.         0.         ... 0.12882619 0.11187977 0.09913169] as keyword args. From version 0.10 passing these as positional arguments will result in an error\n",
      "  audio = librosa.feature.mfcc(data, sr = sr)\n",
      "/Users/jay/Desktop/Projects/CS543-FinalProject/DL/dataset.py:32: FutureWarning: Pass y=[0.         0.         0.         ... 0.18614674 0.11608505 0.08768775] as keyword args. From version 0.10 passing these as positional arguments will result in an error\n",
      "  audio = librosa.feature.mfcc(data, sr = sr)\n",
      "/Users/jay/Desktop/Projects/CS543-FinalProject/DL/dataset.py:32: FutureWarning: Pass y=[0.         0.         0.         ... 0.54298794 0.5127954  0.36602423] as keyword args. From version 0.10 passing these as positional arguments will result in an error\n",
      "  audio = librosa.feature.mfcc(data, sr = sr)\n",
      "/Users/jay/Desktop/Projects/CS543-FinalProject/DL/dataset.py:32: FutureWarning: Pass y=[0.0000000e+00 0.0000000e+00 1.4044217e-12 ... 3.0643776e-01 3.0209607e-01\n",
      " 3.1071368e-01] as keyword args. From version 0.10 passing these as positional arguments will result in an error\n",
      "  audio = librosa.feature.mfcc(data, sr = sr)\n",
      "/Users/jay/Desktop/Projects/CS543-FinalProject/DL/dataset.py:32: FutureWarning: Pass y=[ 0.          0.          0.         ... -0.44250667 -0.3909794\n",
      " -0.27206653] as keyword args. From version 0.10 passing these as positional arguments will result in an error\n",
      "  audio = librosa.feature.mfcc(data, sr = sr)\n",
      "/Users/jay/Desktop/Projects/CS543-FinalProject/DL/dataset.py:32: FutureWarning: Pass y=[ 0.          0.          0.         ... -0.16553356 -0.14330034\n",
      " -0.20927756] as keyword args. From version 0.10 passing these as positional arguments will result in an error\n",
      "  audio = librosa.feature.mfcc(data, sr = sr)\n",
      "/Users/jay/Desktop/Projects/CS543-FinalProject/DL/dataset.py:32: FutureWarning: Pass y=[ 0.          0.          0.         ... -0.26597992 -0.21384618\n",
      " -0.27962378] as keyword args. From version 0.10 passing these as positional arguments will result in an error\n",
      "  audio = librosa.feature.mfcc(data, sr = sr)\n",
      "/Users/jay/Desktop/Projects/CS543-FinalProject/DL/dataset.py:32: FutureWarning: Pass y=[ 0.          0.          0.         ... -0.17242005 -0.09589352\n",
      " -0.14342314] as keyword args. From version 0.10 passing these as positional arguments will result in an error\n",
      "  audio = librosa.feature.mfcc(data, sr = sr)\n",
      "/Users/jay/Desktop/Projects/CS543-FinalProject/DL/dataset.py:32: FutureWarning: Pass y=[ 0.          0.          0.         ...  0.00439997 -0.00069037\n",
      " -0.01505214] as keyword args. From version 0.10 passing these as positional arguments will result in an error\n",
      "  audio = librosa.feature.mfcc(data, sr = sr)\n",
      "/Users/jay/Desktop/Projects/CS543-FinalProject/DL/dataset.py:32: FutureWarning: Pass y=[ 0.          0.          0.         ... -0.23342389 -0.37819543\n",
      " -0.50428015] as keyword args. From version 0.10 passing these as positional arguments will result in an error\n",
      "  audio = librosa.feature.mfcc(data, sr = sr)\n",
      "/Users/jay/Desktop/Projects/CS543-FinalProject/DL/dataset.py:32: FutureWarning: Pass y=[ 0.          0.          0.         ... -0.05260174  0.32401744\n",
      "  0.38777658] as keyword args. From version 0.10 passing these as positional arguments will result in an error\n",
      "  audio = librosa.feature.mfcc(data, sr = sr)\n",
      "/Users/jay/Desktop/Projects/CS543-FinalProject/DL/dataset.py:32: FutureWarning: Pass y=[ 0.          0.          0.         ... -0.4219752  -0.44166288\n",
      " -0.5076135 ] as keyword args. From version 0.10 passing these as positional arguments will result in an error\n",
      "  audio = librosa.feature.mfcc(data, sr = sr)\n",
      "/Users/jay/Desktop/Projects/CS543-FinalProject/DL/dataset.py:32: FutureWarning: Pass y=[ 0.          0.          0.         ... -0.01438123 -0.03540462\n",
      " -0.05683971] as keyword args. From version 0.10 passing these as positional arguments will result in an error\n",
      "  audio = librosa.feature.mfcc(data, sr = sr)\n",
      "/Users/jay/Desktop/Projects/CS543-FinalProject/DL/dataset.py:32: FutureWarning: Pass y=[ 0.          0.          0.         ... -0.05468397 -0.05566543\n",
      " -0.06098627] as keyword args. From version 0.10 passing these as positional arguments will result in an error\n",
      "  audio = librosa.feature.mfcc(data, sr = sr)\n",
      "/Users/jay/Desktop/Projects/CS543-FinalProject/DL/dataset.py:32: FutureWarning: Pass y=[ 0.          0.          0.         ... -0.1313309  -0.16627257\n",
      " -0.00083951] as keyword args. From version 0.10 passing these as positional arguments will result in an error\n",
      "  audio = librosa.feature.mfcc(data, sr = sr)\n",
      "/Users/jay/Desktop/Projects/CS543-FinalProject/DL/dataset.py:32: FutureWarning: Pass y=[ 0.          0.          0.         ... -0.12876445 -0.06361485\n",
      " -0.03272724] as keyword args. From version 0.10 passing these as positional arguments will result in an error\n",
      "  audio = librosa.feature.mfcc(data, sr = sr)\n",
      "/Users/jay/Desktop/Projects/CS543-FinalProject/DL/dataset.py:32: FutureWarning: Pass y=[0.         0.         0.         ... 0.1280296  0.11635837 0.12131844] as keyword args. From version 0.10 passing these as positional arguments will result in an error\n",
      "  audio = librosa.feature.mfcc(data, sr = sr)\n",
      "/Users/jay/Desktop/Projects/CS543-FinalProject/DL/dataset.py:32: FutureWarning: Pass y=[0.         0.         0.         ... 0.11547823 0.04789916 0.00455471] as keyword args. From version 0.10 passing these as positional arguments will result in an error\n",
      "  audio = librosa.feature.mfcc(data, sr = sr)\n",
      "/Users/jay/Desktop/Projects/CS543-FinalProject/DL/dataset.py:32: FutureWarning: Pass y=[0.05120673 0.08545724 0.06786047 ... 0.520573   0.54913706 0.57816565] as keyword args. From version 0.10 passing these as positional arguments will result in an error\n",
      "  audio = librosa.feature.mfcc(data, sr = sr)\n",
      "/Users/jay/Desktop/Projects/CS543-FinalProject/DL/dataset.py:32: FutureWarning: Pass y=[ 0.          0.          0.         ...  0.04085727 -0.02975124\n",
      " -0.06104653] as keyword args. From version 0.10 passing these as positional arguments will result in an error\n",
      "  audio = librosa.feature.mfcc(data, sr = sr)\n",
      "/Users/jay/Desktop/Projects/CS543-FinalProject/DL/dataset.py:32: FutureWarning: Pass y=[ 0.          0.          0.         ... -0.19072333 -0.21321806\n",
      " -0.2960229 ] as keyword args. From version 0.10 passing these as positional arguments will result in an error\n",
      "  audio = librosa.feature.mfcc(data, sr = sr)\n",
      "/Users/jay/Desktop/Projects/CS543-FinalProject/DL/dataset.py:32: FutureWarning: Pass y=[ 0.0000000e+00  0.0000000e+00 -1.4044217e-12 ...  1.3956591e-01\n",
      "  2.0489104e-01  9.8153830e-02] as keyword args. From version 0.10 passing these as positional arguments will result in an error\n",
      "  audio = librosa.feature.mfcc(data, sr = sr)\n",
      "/Users/jay/Desktop/Projects/CS543-FinalProject/DL/dataset.py:32: FutureWarning: Pass y=[0.         0.         0.         ... 0.37227488 0.49916127 0.7907746 ] as keyword args. From version 0.10 passing these as positional arguments will result in an error\n",
      "  audio = librosa.feature.mfcc(data, sr = sr)\n",
      "/Users/jay/Desktop/Projects/CS543-FinalProject/DL/dataset.py:32: FutureWarning: Pass y=[ 0.          0.          0.         ...  0.14332077  0.03627697\n",
      " -0.10490754] as keyword args. From version 0.10 passing these as positional arguments will result in an error\n",
      "  audio = librosa.feature.mfcc(data, sr = sr)\n",
      "/Users/jay/Desktop/Projects/CS543-FinalProject/DL/dataset.py:32: FutureWarning: Pass y=[0.        0.        0.        ... 0.4034646 0.4280393 0.5312055] as keyword args. From version 0.10 passing these as positional arguments will result in an error\n",
      "  audio = librosa.feature.mfcc(data, sr = sr)\n",
      "/Users/jay/Desktop/Projects/CS543-FinalProject/DL/dataset.py:32: FutureWarning: Pass y=[ 0.          0.          0.         ...  0.00349072 -0.03702878\n",
      " -0.02565066] as keyword args. From version 0.10 passing these as positional arguments will result in an error\n",
      "  audio = librosa.feature.mfcc(data, sr = sr)\n",
      "/Users/jay/Desktop/Projects/CS543-FinalProject/DL/dataset.py:32: FutureWarning: Pass y=[ 0.          0.          0.         ... -0.08747824 -0.02482946\n",
      "  0.01769126] as keyword args. From version 0.10 passing these as positional arguments will result in an error\n",
      "  audio = librosa.feature.mfcc(data, sr = sr)\n",
      "/Users/jay/Desktop/Projects/CS543-FinalProject/DL/dataset.py:32: FutureWarning: Pass y=[ 0.          0.          0.         ... -0.0739168  -0.11905028\n",
      " -0.12019119] as keyword args. From version 0.10 passing these as positional arguments will result in an error\n",
      "  audio = librosa.feature.mfcc(data, sr = sr)\n",
      "/Users/jay/Desktop/Projects/CS543-FinalProject/DL/dataset.py:32: FutureWarning: Pass y=[0.         0.         0.         ... 0.02041385 0.036605   0.05888315] as keyword args. From version 0.10 passing these as positional arguments will result in an error\n",
      "  audio = librosa.feature.mfcc(data, sr = sr)\n",
      "/Users/jay/Desktop/Projects/CS543-FinalProject/DL/dataset.py:32: FutureWarning: Pass y=[ 1.9626594e-12 -4.2934736e-12  6.9239059e-12 ...  9.9396333e-02\n",
      "  8.1918247e-02  7.6619498e-02] as keyword args. From version 0.10 passing these as positional arguments will result in an error\n",
      "  audio = librosa.feature.mfcc(data, sr = sr)\n",
      "/Users/jay/Desktop/Projects/CS543-FinalProject/DL/dataset.py:32: FutureWarning: Pass y=[0.         0.         0.         ... 0.58503795 0.70351017 0.5335781 ] as keyword args. From version 0.10 passing these as positional arguments will result in an error\n",
      "  audio = librosa.feature.mfcc(data, sr = sr)\n"
     ]
    }
   ],
   "source": [
    "gan = GAN(\"cpu\", 0.002)"
   ]
  },
  {
   "cell_type": "code",
   "execution_count": null,
   "metadata": {},
   "outputs": [],
   "source": [
    "gan.train(10)"
   ]
  }
 ],
 "metadata": {
  "kernelspec": {
   "display_name": "Python 3.9.13 ('CV')",
   "language": "python",
   "name": "python3"
  },
  "language_info": {
   "codemirror_mode": {
    "name": "ipython",
    "version": 3
   },
   "file_extension": ".py",
   "mimetype": "text/x-python",
   "name": "python",
   "nbconvert_exporter": "python",
   "pygments_lexer": "ipython3",
   "version": "3.9.13"
  },
  "orig_nbformat": 4,
  "vscode": {
   "interpreter": {
    "hash": "32fe019db8de5c84f38c78acc28f971584ddcf918f5a77f9a679a2a7bcab9eeb"
   }
  }
 },
 "nbformat": 4,
 "nbformat_minor": 2
}
